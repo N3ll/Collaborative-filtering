{
 "cells": [
  {
   "cell_type": "markdown",
   "metadata": {},
   "source": [
    "# Introduction to Collaborative Filtering"
   ]
  },
  {
   "cell_type": "markdown",
   "metadata": {},
   "source": [
    "Dictionary of ratings."
   ]
  },
  {
   "cell_type": "code",
   "execution_count": 1,
   "metadata": {},
   "outputs": [],
   "source": [
    "critics={'Lisa Rose': {'Lady in the Water': 2.5, 'Snakes on a Plane': 3.5,\n",
    "'Just My Luck': 3.0, 'Superman Returns': 3.5, 'You, Me and Dupree': 2.5,\n",
    "'The Night Listener': 3.0},\n",
    "'Gene Seymour': {'Lady in the Water': 3.0, 'Snakes on a Plane': 3.5,\n",
    "'Just My Luck': 1.5, 'Superman Returns': 5.0, 'The Night Listener': 3.0,\n",
    "'You, Me and Dupree': 3.5},\n",
    "'Michael Phillips': {'Lady in the Water': 2.5, 'Snakes on a Plane': 3.0,\n",
    "'Superman Returns': 3.5, 'The Night Listener': 4.0},\n",
    "'Claudia Puig': {'Snakes on a Plane': 3.5, 'Just My Luck': 3.0,\n",
    "'The Night Listener': 4.5, 'Superman Returns': 4.0,\n",
    "'You, Me and Dupree': 2.5},\n",
    "'Mick LaSalle': {'Lady in the Water': 3.0, 'Snakes on a Plane': 4.0,\n",
    "'Just My Luck': 2.0, 'Superman Returns': 3.0, 'The Night Listener': 3.0,\n",
    "'You, Me and Dupree': 2.0},\n",
    "'Jack Matthews': {'Lady in the Water': 3.0, 'Snakes on a Plane': 4.0,\n",
    "'The Night Listener': 3.0, 'Superman Returns': 5.0, 'You, Me and Dupree': 3.5},\n",
    "'Toby': {'Snakes on a Plane':4.5,'You, Me and Dupree':1.0,'Superman Returns':4.0}}"
   ]
  },
  {
   "cell_type": "code",
   "execution_count": 2,
   "metadata": {},
   "outputs": [
    {
     "data": {
      "text/plain": [
       "2.5"
      ]
     },
     "execution_count": 2,
     "metadata": {},
     "output_type": "execute_result"
    }
   ],
   "source": [
    "critics['Lisa Rose']['Lady in the Water']"
   ]
  },
  {
   "cell_type": "code",
   "execution_count": 3,
   "metadata": {},
   "outputs": [
    {
     "data": {
      "text/plain": [
       "{'Snakes on a Plane': 4.5, 'You, Me and Dupree': 1.0, 'Superman Returns': 4.0}"
      ]
     },
     "execution_count": 3,
     "metadata": {},
     "output_type": "execute_result"
    }
   ],
   "source": [
    "critics['Toby']"
   ]
  },
  {
   "cell_type": "markdown",
   "metadata": {},
   "source": [
    "## Euclidean distance for finding similar users"
   ]
  },
  {
   "cell_type": "code",
   "execution_count": 4,
   "metadata": {},
   "outputs": [
    {
     "data": {
      "text/plain": [
       "1.118033988749895"
      ]
     },
     "execution_count": 4,
     "metadata": {},
     "output_type": "execute_result"
    }
   ],
   "source": [
    "from math import sqrt\n",
    "#Toby and LaSalle similarity based on Snakes and Dupree\n",
    "sqrt(pow(4.0-4.5,2)+pow(2.0-1.0,2))"
   ]
  },
  {
   "cell_type": "markdown",
   "metadata": {},
   "source": [
    "The above result gives us the actual distance between each person. If we wish to have a score that assumes higher values for people who are more similar, we can add 1 to the formula and invert it. All values will now be between 0-1."
   ]
  },
  {
   "cell_type": "code",
   "execution_count": 5,
   "metadata": {},
   "outputs": [
    {
     "data": {
      "text/plain": [
       "0.4721359549995794"
      ]
     },
     "execution_count": 5,
     "metadata": {},
     "output_type": "execute_result"
    }
   ],
   "source": [
    "1/(1+sqrt(pow(4.0-4.5,2)+pow(2.0-1.0,2)))"
   ]
  },
  {
   "cell_type": "code",
   "execution_count": 6,
   "metadata": {},
   "outputs": [],
   "source": [
    "#putting everything in a function\n",
    "def sim_distance(all_critics,person1,person2):\n",
    "    common_movies={}\n",
    "    for movie in all_critics[person1]:\n",
    "        if movie in all_critics[person2]:\n",
    "            common_movies[movie]=1\n",
    "            \n",
    "    if len(common_movies) == 0:\n",
    "        return 0\n",
    "    \n",
    "    sum_of_squares = sum(pow(all_critics[person1][movie]-all_critics[person2][movie],2) for movie in all_critics[person1] if movie in all_critics[person2])\n",
    "    \n",
    "    return 1/(1+sqrt(sum_of_squares))"
   ]
  },
  {
   "cell_type": "code",
   "execution_count": 7,
   "metadata": {},
   "outputs": [
    {
     "data": {
      "text/plain": [
       "0.29429805508554946"
      ]
     },
     "execution_count": 7,
     "metadata": {},
     "output_type": "execute_result"
    }
   ],
   "source": [
    "sim_distance(critics,'Lisa Rose','Gene Seymour')"
   ]
  },
  {
   "cell_type": "markdown",
   "metadata": {},
   "source": [
    "## Pearson correlation coefficient distance for finding similar users"
   ]
  },
  {
   "cell_type": "code",
   "execution_count": 8,
   "metadata": {},
   "outputs": [],
   "source": [
    "def sim_pearson_custom(all_critics,person1,person2):\n",
    "    common_movies = {}\n",
    "    for movie in all_critics[person1]:\n",
    "        if movie in all_critics[person2]:\n",
    "            common_movies[movie] = 1\n",
    "            \n",
    "    number_of_movies = len(common_movies)\n",
    "    if(common_movies) == 0:\n",
    "        return 0\n",
    "    \n",
    "    #sum the ratings of person1 and person2\n",
    "    sum1 = sum([critics[person1][movie] for movie in common_movies])\n",
    "    sum2 = sum([critics[person2][movie] for movie in common_movies])\n",
    "    \n",
    "    #sum the sqaures of the ratings of person1 and person2\n",
    "    sumSq1 = sum([pow(critics[person1][movie],2) for movie in common_movies])\n",
    "    sumSq2 = sum([pow(critics[person2][movie],2) for movie in common_movies])\n",
    "    \n",
    "    #sum of the products of the ratings of person1 and perosn2 for the formula (sum(x*y)-n*mean(x)*mean(y))\n",
    "    sumPr = sum([critics[person1][movie]*critics[person2][movie] for movie in common_movies])\n",
    "    \n",
    "    \n",
    "    #calculate Pearson coefficient\n",
    "    denominator = sqrt((sumSq1 - pow(sum1,2)/number_of_movies)*(sumSq2 - pow(sum2,2)/number_of_movies))\n",
    "    if denominator == 0:\n",
    "        return 0;\n",
    "    numerator = sumPr - (sum1*sum2/number_of_movies)\n",
    "    \n",
    "    return numerator/denominator"
   ]
  },
  {
   "cell_type": "code",
   "execution_count": 9,
   "metadata": {},
   "outputs": [],
   "source": [
    "#SciPy Pearson\n",
    "from scipy.stats.stats import pearsonr\n",
    "def sim_pearson(all_critics,person1,person2):\n",
    "    common_movies = {}\n",
    "    for movie in all_critics[person1]:\n",
    "        if movie in all_critics[person2]:\n",
    "            common_movies[movie] = 1\n",
    "            \n",
    "    number_of_movies = len(common_movies)\n",
    "    if(common_movies) == 0:\n",
    "        return 0\n",
    "    else:\n",
    "        movies_person1 = [critics[person1][movie] for movie in common_movies]\n",
    "        movies_person2 = [critics[person2][movie] for movie in common_movies]\n",
    "        return pearsonr(movies_person1,movies_person2)[0]"
   ]
  },
  {
   "cell_type": "code",
   "execution_count": 10,
   "metadata": {},
   "outputs": [
    {
     "data": {
      "text/plain": [
       "0.9244734516419049"
      ]
     },
     "execution_count": 10,
     "metadata": {},
     "output_type": "execute_result"
    }
   ],
   "source": [
    "sim_pearson_custom(critics,'Mick LaSalle','Toby')"
   ]
  },
  {
   "cell_type": "code",
   "execution_count": 11,
   "metadata": {},
   "outputs": [
    {
     "data": {
      "text/plain": [
       "0.924473451641905"
      ]
     },
     "execution_count": 11,
     "metadata": {},
     "output_type": "execute_result"
    }
   ],
   "source": [
    "sim_pearson(critics,'Mick LaSalle','Toby')"
   ]
  },
  {
   "cell_type": "code",
   "execution_count": 12,
   "metadata": {},
   "outputs": [
    {
     "data": {
      "text/plain": [
       "0.747017880833996"
      ]
     },
     "execution_count": 12,
     "metadata": {},
     "output_type": "execute_result"
    }
   ],
   "source": [
    "sim_pearson(critics,'Lisa Rose','Jack Matthews')"
   ]
  },
  {
   "cell_type": "markdown",
   "metadata": {},
   "source": [
    "## Ranking the critics"
   ]
  },
  {
   "cell_type": "code",
   "execution_count": 13,
   "metadata": {},
   "outputs": [],
   "source": [
    "def topMatches(all_critics, person, number_of_matches=3, similarity=sim_pearson):\n",
    "    matches=[(similarity(all_critics,person,other),other) for other in all_critics if other!=person]\n",
    "    \n",
    "    matches.sort()\n",
    "    matches.reverse()\n",
    "    return matches[0: number_of_matches]"
   ]
  },
  {
   "cell_type": "code",
   "execution_count": 14,
   "metadata": {},
   "outputs": [
    {
     "data": {
      "text/plain": [
       "[(0.9912407071619304, 'Lisa Rose'),\n",
       " (0.924473451641905, 'Mick LaSalle'),\n",
       " (0.8934051474415642, 'Claudia Puig'),\n",
       " (0.6628489803598702, 'Jack Matthews'),\n",
       " (0.3812464258315117, 'Gene Seymour')]"
      ]
     },
     "execution_count": 14,
     "metadata": {},
     "output_type": "execute_result"
    }
   ],
   "source": [
    "topMatches(critics,'Toby',number_of_matches=5)"
   ]
  },
  {
   "cell_type": "markdown",
   "metadata": {},
   "source": [
    "## Recommending movies"
   ]
  },
  {
   "cell_type": "code",
   "execution_count": 40,
   "metadata": {},
   "outputs": [],
   "source": [
    "#Get recommendations for mavoies for a user, based on a weighted average of every other user's ranking based on how similar the users are to each other\n",
    "def getRecommendations(all_critics,person,similarity = sim_pearson):\n",
    "    sum_of_weighted_rankings_per_movie = {}\n",
    "    sum_of_similarities_per_movie_per_user = {}\n",
    "    \n",
    "    for other in all_critics:\n",
    "        if other == person: continue\n",
    "        similarity_index = similarity(all_critics,other, person)  \n",
    "        \n",
    "        if similarity_index <= 0: continue\n",
    "        \n",
    "        for movie in all_critics[other]:\n",
    "            #movies that the user hasn't seen yet\n",
    "            if movie not in all_critics[person] or all_critics[person][movie] == 0:\n",
    "                sum_of_weighted_rankings_per_movie.setdefault(movie,0)\n",
    "                sum_of_weighted_rankings_per_movie[movie] += all_critics[other][movie]*similarity_index\n",
    "                \n",
    "                sum_of_similarities_per_movie_per_user.setdefault(movie,0)\n",
    "                sum_of_similarities_per_movie_per_user[movie] += similarity_index\n",
    "                \n",
    "    recommendations = [(summed_weighted_rating/sum_of_similarities_per_movie_per_user[movie],movie) for movie,summed_weighted_rating in sum_of_weighted_rankings_per_movie.items()]\n",
    "    \n",
    "    recommendations.sort()\n",
    "    recommendations.reverse()\n",
    "    \n",
    "    return recommendations;\n",
    "                \n",
    "            "
   ]
  },
  {
   "cell_type": "code",
   "execution_count": 42,
   "metadata": {},
   "outputs": [
    {
     "data": {
      "text/plain": [
       "[(3.3477895267131017, 'The Night Listener'),\n",
       " (2.8325499182641614, 'Lady in the Water'),\n",
       " (2.5309807037655645, 'Just My Luck')]"
      ]
     },
     "execution_count": 42,
     "metadata": {},
     "output_type": "execute_result"
    }
   ],
   "source": [
    "getRecommendations(critics,'Toby')"
   ]
  },
  {
   "cell_type": "code",
   "execution_count": 43,
   "metadata": {},
   "outputs": [
    {
     "data": {
      "text/plain": [
       "[(3.457128694491423, 'The Night Listener'),\n",
       " (2.778584003814924, 'Lady in the Water'),\n",
       " (2.422482042361917, 'Just My Luck')]"
      ]
     },
     "execution_count": 43,
     "metadata": {},
     "output_type": "execute_result"
    }
   ],
   "source": [
    "getRecommendations(critics,'Toby', similarity=sim_distance)"
   ]
  }
 ],
 "metadata": {
  "kernelspec": {
   "display_name": "Python 2",
   "language": "python",
   "name": "python2"
  },
  "language_info": {
   "codemirror_mode": {
    "name": "ipython",
    "version": 2
   },
   "file_extension": ".py",
   "mimetype": "text/x-python",
   "name": "python",
   "nbconvert_exporter": "python",
   "pygments_lexer": "ipython2",
   "version": "2.7.15"
  }
 },
 "nbformat": 4,
 "nbformat_minor": 2
}
